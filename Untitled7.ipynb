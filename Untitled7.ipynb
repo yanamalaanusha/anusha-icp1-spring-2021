{
  "nbformat": 4,
  "nbformat_minor": 0,
  "metadata": {
    "colab": {
      "name": "Untitled7.ipynb",
      "provenance": [],
      "mount_file_id": "12tBu1ffjai-J_LeEMRexoH7xj_C9_Pj5",
      "authorship_tag": "ABX9TyPzxZTAO99ijr1i3K943taV",
      "include_colab_link": true
    },
    "kernelspec": {
      "name": "python3",
      "display_name": "Python 3"
    }
  },
  "cells": [
    {
      "cell_type": "markdown",
      "metadata": {
        "id": "view-in-github",
        "colab_type": "text"
      },
      "source": [
        "<a href=\"https://colab.research.google.com/github/yanamalaanusha/anusha-icp1-spring-2021/blob/main/Untitled7.ipynb\" target=\"_parent\"><img src=\"https://colab.research.google.com/assets/colab-badge.svg\" alt=\"Open In Colab\"/></a>"
      ]
    },
    {
      "cell_type": "code",
      "metadata": {
        "colab": {
          "base_uri": "https://localhost:8080/"
        },
        "id": "baKG7hVj2Av5",
        "outputId": "accbb8c4-e8cd-4d6e-d85b-5c698dff5b9d"
      },
      "source": [
        "#importing all libraries\r\n",
        "import nltk\r\n",
        "nltk.download('punkt')\r\n",
        "import pandas as pd\r\n",
        "from nltk.tokenize import sent_tokenize\r\n",
        "from nltk.tokenize import word_tokenize\r\n",
        "from nltk.probability import FreqDist\r\n",
        "import matplotlib.pyplot as plt\r\n"
      ],
      "execution_count": 1,
      "outputs": [
        {
          "output_type": "stream",
          "text": [
            "[nltk_data] Downloading package punkt to /root/nltk_data...\n",
            "[nltk_data]   Unzipping tokenizers/punkt.zip.\n"
          ],
          "name": "stdout"
        }
      ]
    },
    {
      "cell_type": "code",
      "metadata": {
        "colab": {
          "base_uri": "https://localhost:8080/",
          "height": 64
        },
        "id": "WwvewCaa2rXA",
        "outputId": "ed54112d-7349-432d-a885-ac8054a10e18"
      },
      "source": [
        "dataset=pd.read_csv(\"/content/task3.txt\",delimiter=\"\\t\")\r\n",
        "dataset"
      ],
      "execution_count": 2,
      "outputs": [
        {
          "output_type": "execute_result",
          "data": {
            "text/html": [
              "<div>\n",
              "<style scoped>\n",
              "    .dataframe tbody tr th:only-of-type {\n",
              "        vertical-align: middle;\n",
              "    }\n",
              "\n",
              "    .dataframe tbody tr th {\n",
              "        vertical-align: top;\n",
              "    }\n",
              "\n",
              "    .dataframe thead th {\n",
              "        text-align: right;\n",
              "    }\n",
              "</style>\n",
              "<table border=\"1\" class=\"dataframe\">\n",
              "  <thead>\n",
              "    <tr style=\"text-align: right;\">\n",
              "      <th></th>\n",
              "      <th>The University of Missouri–Kansas City is a public research university in Kansas City, Missouri. UMKC is part of the University of Missouri System and one of only two member universities with a medical school. As of 2015, the university's enrollment exceeded 16,000 students.</th>\n",
              "    </tr>\n",
              "  </thead>\n",
              "  <tbody>\n",
              "  </tbody>\n",
              "</table>\n",
              "</div>"
            ],
            "text/plain": [
              "Empty DataFrame\n",
              "Columns: [The University of Missouri–Kansas City is a public research university in Kansas City, Missouri. UMKC is part of the University of Missouri System and one of only two member universities with a medical school. As of 2015, the university's enrollment exceeded 16,000 students.]\n",
              "Index: []"
            ]
          },
          "metadata": {
            "tags": []
          },
          "execution_count": 2
        }
      ]
    },
    {
      "cell_type": "code",
      "metadata": {
        "colab": {
          "base_uri": "https://localhost:8080/",
          "height": 70
        },
        "id": "hwIz6xlj3JW6",
        "outputId": "ce11e45a-dbe8-4f6b-ea4f-5163bf33a282"
      },
      "source": [
        "text=dataset.to_string()\r\n",
        "text"
      ],
      "execution_count": 3,
      "outputs": [
        {
          "output_type": "execute_result",
          "data": {
            "application/vnd.google.colaboratory.intrinsic+json": {
              "type": "string"
            },
            "text/plain": [
              "\"Empty DataFrame\\nColumns: [The University of Missouri–Kansas City is a public research university in Kansas City, Missouri. UMKC is part of the University of Missouri System and one of only two member universities with a medical school. As of 2015, the university's enrollment exceeded 16,000 students.]\\nIndex: []\""
            ]
          },
          "metadata": {
            "tags": []
          },
          "execution_count": 3
        }
      ]
    },
    {
      "cell_type": "code",
      "metadata": {
        "colab": {
          "base_uri": "https://localhost:8080/"
        },
        "id": "AO4pBW8w3Q8I",
        "outputId": "4b873611-5fa5-494a-b321-a7c365d6e69b"
      },
      "source": [
        "tokenized_text=sent_tokenize(text)\r\n",
        "print(tokenized_text)\r\n"
      ],
      "execution_count": 4,
      "outputs": [
        {
          "output_type": "stream",
          "text": [
            "['Empty DataFrame\\nColumns: [The University of Missouri–Kansas City is a public research university in Kansas City, Missouri.', 'UMKC is part of the University of Missouri System and one of only two member universities with a medical school.', \"As of 2015, the university's enrollment exceeded 16,000 students.]\", 'Index: []']\n"
          ],
          "name": "stdout"
        }
      ]
    },
    {
      "cell_type": "code",
      "metadata": {
        "colab": {
          "base_uri": "https://localhost:8080/"
        },
        "id": "Dw3_H5Bm3btx",
        "outputId": "ab55df15-4096-4067-8d46-80ecba3e1a1b"
      },
      "source": [
        "tokenized_word=word_tokenize(text)\r\n",
        "print(tokenized_word)\r\n",
        "print(len(tokenized_word))\r\n"
      ],
      "execution_count": 5,
      "outputs": [
        {
          "output_type": "stream",
          "text": [
            "['Empty', 'DataFrame', 'Columns', ':', '[', 'The', 'University', 'of', 'Missouri–Kansas', 'City', 'is', 'a', 'public', 'research', 'university', 'in', 'Kansas', 'City', ',', 'Missouri', '.', 'UMKC', 'is', 'part', 'of', 'the', 'University', 'of', 'Missouri', 'System', 'and', 'one', 'of', 'only', 'two', 'member', 'universities', 'with', 'a', 'medical', 'school', '.', 'As', 'of', '2015', ',', 'the', 'university', \"'s\", 'enrollment', 'exceeded', '16,000', 'students', '.', ']', 'Index', ':', '[', ']']\n",
            "59\n"
          ],
          "name": "stdout"
        }
      ]
    },
    {
      "cell_type": "code",
      "metadata": {
        "colab": {
          "base_uri": "https://localhost:8080/"
        },
        "id": "g3bcHHlx3o6E",
        "outputId": "8cbf054c-af60-4828-cc8d-e7ea10c9863d"
      },
      "source": [
        "fdlist=FreqDist(tokenized_word)\r\n",
        "print(fdlist)"
      ],
      "execution_count": 6,
      "outputs": [
        {
          "output_type": "stream",
          "text": [
            "<FreqDist with 42 samples and 59 outcomes>\n"
          ],
          "name": "stdout"
        }
      ]
    },
    {
      "cell_type": "code",
      "metadata": {
        "colab": {
          "base_uri": "https://localhost:8080/"
        },
        "id": "c4kX3Q_o3wdd",
        "outputId": "d480dd8f-8359-4885-a381-6b91a5e5923b"
      },
      "source": [
        "fdlist.most_common(2)\r\n"
      ],
      "execution_count": 7,
      "outputs": [
        {
          "output_type": "execute_result",
          "data": {
            "text/plain": [
              "[('of', 5), ('.', 3)]"
            ]
          },
          "metadata": {
            "tags": []
          },
          "execution_count": 7
        }
      ]
    },
    {
      "cell_type": "code",
      "metadata": {
        "colab": {
          "base_uri": "https://localhost:8080/",
          "height": 369
        },
        "id": "X4fdzzMB31Qe",
        "outputId": "3e857b02-2d1f-407f-d2db-eef3dacc810f"
      },
      "source": [
        "v=fdlist.plot(85,cumulative=False)\r\n",
        "plt.show"
      ],
      "execution_count": 8,
      "outputs": [
        {
          "output_type": "display_data",
          "data": {
            "image/png": "[encoded data removed]",
            "text/plain": [
              "<Figure size 432x288 with 1 Axes>"
            ]
          },
          "metadata": {
            "tags": [],
            "needs_background": "light"
          }
        },
        {
          "output_type": "execute_result",
          "data": {
            "text/plain": [
              "<function matplotlib.pyplot.show>"
            ]
          },
          "metadata": {
            "tags": []
          },
          "execution_count": 8
        }
      ]
    }
  ]
}