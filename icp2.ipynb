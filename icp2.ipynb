{
  "nbformat": 4,
  "nbformat_minor": 0,
  "metadata": {
    "colab": {
      "name": "icp2.ipynb",
      "provenance": [],
      "mount_file_id": "1Wk1gWQb4HnGHgNXUHW806jE8-o79CU7R",
      "authorship_tag": "ABX9TyOlCJpHBD94emOEs+6+xilX",
      "include_colab_link": true
    },
    "kernelspec": {
      "name": "python3",
      "display_name": "Python 3"
    }
  },
  "cells": [
    {
      "cell_type": "markdown",
      "metadata": {
        "id": "view-in-github",
        "colab_type": "text"
      },
      "source": [
        "<a href=\"https://colab.research.google.com/github/yanamalaanusha/anusha-icp1-spring-2021/blob/main/icp2.ipynb\" target=\"_parent\"><img src=\"https://colab.research.google.com/assets/colab-badge.svg\" alt=\"Open In Colab\"/></a>"
      ]
    },
    {
      "cell_type": "markdown",
      "metadata": {
        "id": "Du5q41XLAdnU"
      },
      "source": [
        "A.Parts of speech"
      ]
    },
    {
      "cell_type": "markdown",
      "metadata": {
        "id": "VJN7t463UUvP"
      },
      "source": [
        "A.Parts of speech"
      ]
    },
    {
      "cell_type": "code",
      "metadata": {
        "colab": {
          "base_uri": "https://localhost:8080/"
        },
        "id": "yLTOTEr1ASsA",
        "outputId": "d12b12f2-69b1-4bb1-fcc1-557b94069475"
      },
      "source": [
        "import nltk \r\n",
        "from nltk.corpus import stopwords \r\n",
        "\r\n",
        "from nltk.tokenize import PunktSentenceTokenizer\r\n",
        "from nltk.tokenize import word_tokenize, sent_tokenize \r\n",
        "nltk.download('punkt')\r\n",
        "text = \"Xi Jinping is a Chinese politician who has served as General Secretary of the Chinese Communist Party (CCP) and Chairman of the Central Military Commission (CMC) since 2012, and President of the People's Republic of China (PRC) since 2013. He has been the paramount leader of China, the most prominent political leader in the country, since 2012. The son of Chinese Communist veteran Xi Zhongxun, he was exiled to rural Yanchuan County as a teenager following his father's purge during the Cultural Revolutionandlived in a cave in the village of Liangjiahe, where he joined the CCP and worked as the party secretary.\"\r\n",
        "tokenizer = sent_tokenize(text) \r\n",
        "nltk.download('averaged_perceptron_tagger')\r\n",
        "for j in tokenizer: \r\n",
        "    wordsList = nltk.word_tokenize(j) \r\n",
        "    postag = nltk.pos_tag(wordsList) \r\n",
        "    print(postag)\r\n",
        "    print(\"\")"
      ],
      "execution_count": 15,
      "outputs": [
        {
          "output_type": "stream",
          "text": [
            "[nltk_data] Downloading package punkt to /root/nltk_data...\n",
            "[nltk_data]   Package punkt is already up-to-date!\n",
            "[nltk_data] Downloading package averaged_perceptron_tagger to\n",
            "[nltk_data]     /root/nltk_data...\n",
            "[nltk_data]   Package averaged_perceptron_tagger is already up-to-\n",
            "[nltk_data]       date!\n",
            "[('Xi', 'NN'), ('Jinping', 'NNP'), ('is', 'VBZ'), ('a', 'DT'), ('Chinese', 'JJ'), ('politician', 'NN'), ('who', 'WP'), ('has', 'VBZ'), ('served', 'VBN'), ('as', 'IN'), ('General', 'NNP'), ('Secretary', 'NNP'), ('of', 'IN'), ('the', 'DT'), ('Chinese', 'NNP'), ('Communist', 'NNP'), ('Party', 'NNP'), ('(', '('), ('CCP', 'NNP'), (')', ')'), ('and', 'CC'), ('Chairman', 'NNP'), ('of', 'IN'), ('the', 'DT'), ('Central', 'NNP'), ('Military', 'NNP'), ('Commission', 'NNP'), ('(', '('), ('CMC', 'NNP'), (')', ')'), ('since', 'IN'), ('2012', 'CD'), (',', ','), ('and', 'CC'), ('President', 'NNP'), ('of', 'IN'), ('the', 'DT'), ('People', 'NNP'), (\"'s\", 'POS'), ('Republic', 'NNP'), ('of', 'IN'), ('China', 'NNP'), ('(', '('), ('PRC', 'NNP'), (')', ')'), ('since', 'IN'), ('2013', 'CD'), ('.', '.')]\n",
            "\n",
            "[('He', 'PRP'), ('has', 'VBZ'), ('been', 'VBN'), ('the', 'DT'), ('paramount', 'JJ'), ('leader', 'NN'), ('of', 'IN'), ('China', 'NNP'), (',', ','), ('the', 'DT'), ('most', 'RBS'), ('prominent', 'JJ'), ('political', 'JJ'), ('leader', 'NN'), ('in', 'IN'), ('the', 'DT'), ('country', 'NN'), (',', ','), ('since', 'IN'), ('2012', 'CD'), ('.', '.')]\n",
            "\n",
            "[('The', 'DT'), ('son', 'NN'), ('of', 'IN'), ('Chinese', 'JJ'), ('Communist', 'NNP'), ('veteran', 'NN'), ('Xi', 'NNP'), ('Zhongxun', 'NNP'), (',', ','), ('he', 'PRP'), ('was', 'VBD'), ('exiled', 'VBN'), ('to', 'TO'), ('rural', 'JJ'), ('Yanchuan', 'NNP'), ('County', 'NNP'), ('as', 'IN'), ('a', 'DT'), ('teenager', 'NN'), ('following', 'VBG'), ('his', 'PRP$'), ('father', 'NN'), (\"'s\", 'POS'), ('purge', 'NN'), ('during', 'IN'), ('the', 'DT'), ('Cultural', 'NNP'), ('Revolutionandlived', 'NNP'), ('in', 'IN'), ('a', 'DT'), ('cave', 'NN'), ('in', 'IN'), ('the', 'DT'), ('village', 'NN'), ('of', 'IN'), ('Liangjiahe', 'NNP'), (',', ','), ('where', 'WRB'), ('he', 'PRP'), ('joined', 'VBD'), ('the', 'DT'), ('CCP', 'NNP'), ('and', 'CC'), ('worked', 'VBD'), ('as', 'IN'), ('the', 'DT'), ('party', 'NN'), ('secretary', 'NN'), ('.', '.')]\n",
            "\n"
          ],
          "name": "stdout"
        }
      ]
    },
    {
      "cell_type": "markdown",
      "metadata": {
        "id": "xj3JGQZNSUj5"
      },
      "source": [
        "B.Named entity recognizer (NER)"
      ]
    },
    {
      "cell_type": "code",
      "metadata": {
        "colab": {
          "base_uri": "https://localhost:8080/"
        },
        "id": "M2aETroaV9AC",
        "outputId": "67adbffc-8788-4f8a-b668-92634276168c"
      },
      "source": [
        "import nltk \r\n",
        "from nltk.corpus import stopwords \r\n",
        "\r\n",
        "from nltk.tokenize import PunktSentenceTokenizer\r\n",
        "from nltk.tokenize import word_tokenize, sent_tokenize \r\n",
        "nltk.download('punkt')\r\n",
        "  \r\n",
        "import spacy \r\n",
        "  \r\n",
        "nlp = spacy.load('en_core_web_sm') \r\n",
        "text = \"Xi Jinping is a Chinese politician who has served as General Secretary of the Chinese Communist Party (CCP) and Chairman of the Central Military Commission (CMC) since 2012, and President of the People's Republic of China (PRC) since 2013. He has been the paramount leader of China, the most prominent political leader in the country, since 2012. The son of Chinese Communist veteran Xi Zhongxun, he was exiled to rural Yanchuan County as a teenager following his father's purge during the Cultural Revolutionandlived in a cave in the village of Liangjiahe, where he joined the CCP and worked as the party secretary.\"\r\n",
        "\r\n",
        "tokenizer = sent_tokenize(text) \r\n",
        "nltk.download('averaged_perceptron_tagger')\r\n",
        "print(\"{:s}\\t{}\".format(\"Word\",  \"NER\"))\r\n",
        "\r\n",
        "doc = nlp(text) \r\n",
        "  \r\n",
        "for ent in doc.ents: \r\n",
        "    print(ent.text, ent.label_, ent.lemma_) \r\n",
        "\r\n",
        "    print(\"\")"
      ],
      "execution_count": 16,
      "outputs": [
        {
          "output_type": "stream",
          "text": [
            "[nltk_data] Downloading package punkt to /root/nltk_data...\n",
            "[nltk_data]   Package punkt is already up-to-date!\n",
            "[nltk_data] Downloading package averaged_perceptron_tagger to\n",
            "[nltk_data]     /root/nltk_data...\n",
            "[nltk_data]   Package averaged_perceptron_tagger is already up-to-\n",
            "[nltk_data]       date!\n",
            "Word\tNER\n",
            "Xi Jinping PERSON Xi Jinping\n",
            "\n",
            "Chinese NORP chinese\n",
            "\n",
            "the Chinese Communist Party ORG the Chinese Communist Party\n",
            "\n",
            "CCP ORG CCP\n",
            "\n",
            "the Central Military Commission ORG the Central Military Commission\n",
            "\n",
            "2012 DATE 2012\n",
            "\n",
            "the People's Republic of China GPE the People 's Republic of China\n",
            "\n",
            "PRC GPE PRC\n",
            "\n",
            "2013 DATE 2013\n",
            "\n",
            "China GPE China\n",
            "\n",
            "2012 DATE 2012\n",
            "\n",
            "Chinese NORP Chinese\n",
            "\n",
            "Communist NORP communist\n",
            "\n",
            "Xi Zhongxun PERSON Xi Zhongxun\n",
            "\n",
            "Yanchuan County GPE Yanchuan County\n",
            "\n",
            "the Cultural Revolutionandlived EVENT the Cultural revolutionandlive\n",
            "\n",
            "Liangjiahe GPE Liangjiahe\n",
            "\n",
            "CCP ORG CCP\n",
            "\n"
          ],
          "name": "stdout"
        }
      ]
    },
    {
      "cell_type": "markdown",
      "metadata": {
        "id": "qclUK4MUWAue"
      },
      "source": [
        "C.Co-reference resolution"
      ]
    },
    {
      "cell_type": "code",
      "metadata": {
        "colab": {
          "base_uri": "https://localhost:8080/",
          "height": 435
        },
        "id": "F2UwDw0AV_ex",
        "outputId": "4a528d84-3f36-491f-ab33-b2fc0c6d7378"
      },
      "source": [
        "import spacy\r\n",
        "import en_core_web_sm\r\n",
        "nlp = spacy.load('en_core_web_sm')\r\n",
        "doc=nlp(u\"Xi Jinping is a Chinese politician who has served as General Secretary of the Chinese Communist Party (CCP) and Chairman of the Central Military Commission (CMC) since 2012, and President of the People's Republic of China (PRC) since 2013. He has been the paramount leader of China, the most prominent political leader in the country, since 2012. The son of Chinese Communist veteran Xi Zhongxun, he was exiled to rural Yanchuan County as a teenager following his father's purge during the Cultural Revolutionandlived in a cave in the village of Liangjiahe, where he joined the CCP and worked as the party secretary.\")\r\n",
        "print(doc._.has_coref)\r\n",
        "print(doc._.coref_clusters)\r\n"
      ],
      "execution_count": 17,
      "outputs": [
        {
          "output_type": "error",
          "ename": "AttributeError",
          "evalue": "ignored",
          "traceback": [
            "\u001b[0;31m---------------------------------------------------------------------------\u001b[0m",
            "\u001b[0;31mAttributeError\u001b[0m                            Traceback (most recent call last)",
            "\u001b[0;32m<ipython-input-17-6cf7438216d5>\u001b[0m in \u001b[0;36m<module>\u001b[0;34m()\u001b[0m\n\u001b[1;32m      3\u001b[0m \u001b[0mnlp\u001b[0m \u001b[0;34m=\u001b[0m \u001b[0mspacy\u001b[0m\u001b[0;34m.\u001b[0m\u001b[0mload\u001b[0m\u001b[0;34m(\u001b[0m\u001b[0;34m'en_core_web_sm'\u001b[0m\u001b[0;34m)\u001b[0m\u001b[0;34m\u001b[0m\u001b[0;34m\u001b[0m\u001b[0m\n\u001b[1;32m      4\u001b[0m \u001b[0mdoc\u001b[0m\u001b[0;34m=\u001b[0m\u001b[0mnlp\u001b[0m\u001b[0;34m(\u001b[0m\u001b[0;34mu\"Xi Jinping is a Chinese politician who has served as General Secretary of the Chinese Communist Party (CCP) and Chairman of the Central Military Commission (CMC) since 2012, and President of the People's Republic of China (PRC) since 2013. He has been the paramount leader of China, the most prominent political leader in the country, since 2012. The son of Chinese Communist veteran Xi Zhongxun, he was exiled to rural Yanchuan County as a teenager following his father's purge during the Cultural Revolutionandlived in a cave in the village of Liangjiahe, where he joined the CCP and worked as the party secretary.\"\u001b[0m\u001b[0;34m)\u001b[0m\u001b[0;34m\u001b[0m\u001b[0;34m\u001b[0m\u001b[0m\n\u001b[0;32m----> 5\u001b[0;31m \u001b[0mprint\u001b[0m\u001b[0;34m(\u001b[0m\u001b[0mdoc\u001b[0m\u001b[0;34m.\u001b[0m\u001b[0m_\u001b[0m\u001b[0;34m.\u001b[0m\u001b[0mhas_coref\u001b[0m\u001b[0;34m)\u001b[0m\u001b[0;34m\u001b[0m\u001b[0;34m\u001b[0m\u001b[0m\n\u001b[0m\u001b[1;32m      6\u001b[0m \u001b[0mprint\u001b[0m\u001b[0;34m(\u001b[0m\u001b[0mdoc\u001b[0m\u001b[0;34m.\u001b[0m\u001b[0m_\u001b[0m\u001b[0;34m.\u001b[0m\u001b[0mcoref_clusters\u001b[0m\u001b[0;34m)\u001b[0m\u001b[0;34m\u001b[0m\u001b[0;34m\u001b[0m\u001b[0m\n",
            "\u001b[0;32m/usr/local/lib/python3.6/dist-packages/spacy/tokens/underscore.py\u001b[0m in \u001b[0;36m__getattr__\u001b[0;34m(self, name)\u001b[0m\n\u001b[1;32m     33\u001b[0m     \u001b[0;32mdef\u001b[0m \u001b[0m__getattr__\u001b[0m\u001b[0;34m(\u001b[0m\u001b[0mself\u001b[0m\u001b[0;34m,\u001b[0m \u001b[0mname\u001b[0m\u001b[0;34m)\u001b[0m\u001b[0;34m:\u001b[0m\u001b[0;34m\u001b[0m\u001b[0;34m\u001b[0m\u001b[0m\n\u001b[1;32m     34\u001b[0m         \u001b[0;32mif\u001b[0m \u001b[0mname\u001b[0m \u001b[0;32mnot\u001b[0m \u001b[0;32min\u001b[0m \u001b[0mself\u001b[0m\u001b[0;34m.\u001b[0m\u001b[0m_extensions\u001b[0m\u001b[0;34m:\u001b[0m\u001b[0;34m\u001b[0m\u001b[0;34m\u001b[0m\u001b[0m\n\u001b[0;32m---> 35\u001b[0;31m             \u001b[0;32mraise\u001b[0m \u001b[0mAttributeError\u001b[0m\u001b[0;34m(\u001b[0m\u001b[0mErrors\u001b[0m\u001b[0;34m.\u001b[0m\u001b[0mE046\u001b[0m\u001b[0;34m.\u001b[0m\u001b[0mformat\u001b[0m\u001b[0;34m(\u001b[0m\u001b[0mname\u001b[0m\u001b[0;34m=\u001b[0m\u001b[0mname\u001b[0m\u001b[0;34m)\u001b[0m\u001b[0;34m)\u001b[0m\u001b[0;34m\u001b[0m\u001b[0;34m\u001b[0m\u001b[0m\n\u001b[0m\u001b[1;32m     36\u001b[0m         \u001b[0mdefault\u001b[0m\u001b[0;34m,\u001b[0m \u001b[0mmethod\u001b[0m\u001b[0;34m,\u001b[0m \u001b[0mgetter\u001b[0m\u001b[0;34m,\u001b[0m \u001b[0msetter\u001b[0m \u001b[0;34m=\u001b[0m \u001b[0mself\u001b[0m\u001b[0;34m.\u001b[0m\u001b[0m_extensions\u001b[0m\u001b[0;34m[\u001b[0m\u001b[0mname\u001b[0m\u001b[0;34m]\u001b[0m\u001b[0;34m\u001b[0m\u001b[0;34m\u001b[0m\u001b[0m\n\u001b[1;32m     37\u001b[0m         \u001b[0;32mif\u001b[0m \u001b[0mgetter\u001b[0m \u001b[0;32mis\u001b[0m \u001b[0;32mnot\u001b[0m \u001b[0;32mNone\u001b[0m\u001b[0;34m:\u001b[0m\u001b[0;34m\u001b[0m\u001b[0;34m\u001b[0m\u001b[0m\n",
            "\u001b[0;31mAttributeError\u001b[0m: [E046] Can't retrieve unregistered extension attribute 'has_coref'. Did you forget to call the `set_extension` method?"
          ]
        }
      ]
    },
    {
      "cell_type": "markdown",
      "metadata": {
        "id": "Bobtlk70WLNq"
      },
      "source": [
        "D. Lemmatization"
      ]
    },
    {
      "cell_type": "code",
      "metadata": {
        "colab": {
          "base_uri": "https://localhost:8080/"
        },
        "id": "nadL7kMwWZZ4",
        "outputId": "d3f56836-ee0b-4572-be16-8d8496817221"
      },
      "source": [
        "import spacy \r\n",
        "# Load English tokenizer, tagger, \r\n",
        "# parser, NER and word vectors \r\n",
        "nlp = spacy.load(\"en_core_web_sm\") \r\n",
        "text = \"Xi Jinping is a Chinese politician who has served as General Secretary of the Chinese Communist Party (CCP) and Chairman of the Central Military Commission (CMC) since 2012, and President of the People's Republic of China (PRC) since 2013. He has been the paramount leader of China, the most prominent political leader in the country, since 2012. The son of Chinese Communist veteran Xi Zhongxun, he was exiled to rural Yanchuan County as a teenager following his father's purge during the Cultural Revolutionandlived in a cave in the village of Liangjiahe, where he joined the CCP and worked as the party secretary.\"\r\n",
        "doc = nlp(text) \r\n",
        "for token in doc:\r\n",
        " print(token, token.lemma_)"
      ],
      "execution_count": 18,
      "outputs": [
        {
          "output_type": "stream",
          "text": [
            "Xi Xi\n",
            "Jinping Jinping\n",
            "is be\n",
            "a a\n",
            "Chinese chinese\n",
            "politician politician\n",
            "who who\n",
            "has have\n",
            "served serve\n",
            "as as\n",
            "General General\n",
            "Secretary Secretary\n",
            "of of\n",
            "the the\n",
            "Chinese Chinese\n",
            "Communist Communist\n",
            "Party Party\n",
            "( (\n",
            "CCP CCP\n",
            ") )\n",
            "and and\n",
            "Chairman Chairman\n",
            "of of\n",
            "the the\n",
            "Central Central\n",
            "Military Military\n",
            "Commission Commission\n",
            "( (\n",
            "CMC CMC\n",
            ") )\n",
            "since since\n",
            "2012 2012\n",
            ", ,\n",
            "and and\n",
            "President President\n",
            "of of\n",
            "the the\n",
            "People People\n",
            "'s 's\n",
            "Republic Republic\n",
            "of of\n",
            "China China\n",
            "( (\n",
            "PRC PRC\n",
            ") )\n",
            "since since\n",
            "2013 2013\n",
            ". .\n",
            "He -PRON-\n",
            "has have\n",
            "been be\n",
            "the the\n",
            "paramount paramount\n",
            "leader leader\n",
            "of of\n",
            "China China\n",
            ", ,\n",
            "the the\n",
            "most most\n",
            "prominent prominent\n",
            "political political\n",
            "leader leader\n",
            "in in\n",
            "the the\n",
            "country country\n",
            ", ,\n",
            "since since\n",
            "2012 2012\n",
            ". .\n",
            "The the\n",
            "son son\n",
            "of of\n",
            "Chinese Chinese\n",
            "Communist communist\n",
            "veteran veteran\n",
            "Xi Xi\n",
            "Zhongxun Zhongxun\n",
            ", ,\n",
            "he -PRON-\n",
            "was be\n",
            "exiled exile\n",
            "to to\n",
            "rural rural\n",
            "Yanchuan Yanchuan\n",
            "County County\n",
            "as as\n",
            "a a\n",
            "teenager teenager\n",
            "following follow\n",
            "his -PRON-\n",
            "father father\n",
            "'s 's\n",
            "purge purge\n",
            "during during\n",
            "the the\n",
            "Cultural Cultural\n",
            "Revolutionandlived revolutionandlive\n",
            "in in\n",
            "a a\n",
            "cave cave\n",
            "in in\n",
            "the the\n",
            "village village\n",
            "of of\n",
            "Liangjiahe Liangjiahe\n",
            ", ,\n",
            "where where\n",
            "he -PRON-\n",
            "joined join\n",
            "the the\n",
            "CCP CCP\n",
            "and and\n",
            "worked work\n",
            "as as\n",
            "the the\n",
            "party party\n",
            "secretary secretary\n",
            ". .\n"
          ],
          "name": "stdout"
        }
      ]
    },
    {
      "cell_type": "markdown",
      "metadata": {
        "id": "BRKCSpTbWhNi"
      },
      "source": [
        "E.Prasing"
      ]
    },
    {
      "cell_type": "code",
      "metadata": {
        "id": "kdRiDco-Wkk2",
        "colab": {
          "base_uri": "https://localhost:8080/"
        },
        "outputId": "0325c9b8-e980-4de0-c18a-e4186491ab30"
      },
      "source": [
        "# Import required libraries \r\n",
        "import nltk \r\n",
        "nltk.download('punkt') \r\n",
        "nltk.download('averaged_perceptron_tagger') \r\n",
        "from nltk import pos_tag, word_tokenize, RegexpParser \r\n",
        "   \r\n",
        "# Example text \r\n",
        "text = \"Xi Jinping is a Chinese politician who has served as General Secretary of the Chinese Communist Party (CCP) and Chairman of the Central Military Commission (CMC) since 2012, and President of the People's Republic of China (PRC) since 2013. He has been the paramount leader of China, the most prominent political leader in the country, since 2012. The son of Chinese Communist veteran Xi Zhongxun, he was exiled to rural Yanchuan County as a teenager following his father's purge during the Cultural Revolutionandlived in a cave in the village of Liangjiahe, where he joined the CCP and worked as the party secretary.\"\r\n",
        "   \r\n",
        "# Find all parts of speech in above sentence \r\n",
        "tagged = pos_tag(word_tokenize(text)) \r\n",
        "   \r\n",
        "#Extract all parts of speech from any text \r\n",
        "chunker = RegexpParser(\"\"\" \r\n",
        "                       NP: {<DT>?<JJ>*<NN>}     \r\n",
        "                       P: {<IN>}                \r\n",
        "                       V: {<V.*>}               \r\n",
        "                       PP: {<P> <NP>}           \r\n",
        "                       VP: {<V> <NP|PP>*}       \r\n",
        "                       \"\"\") \r\n",
        "  \r\n",
        "# Print all parts of speech in above sentence \r\n",
        "output = chunker.parse(tagged) \r\n",
        "print(\"After Extracting\\n\", output) "
      ],
      "execution_count": 19,
      "outputs": [
        {
          "output_type": "stream",
          "text": [
            "[nltk_data] Downloading package punkt to /root/nltk_data...\n",
            "[nltk_data]   Package punkt is already up-to-date!\n",
            "[nltk_data] Downloading package averaged_perceptron_tagger to\n",
            "[nltk_data]     /root/nltk_data...\n",
            "[nltk_data]   Package averaged_perceptron_tagger is already up-to-\n",
            "[nltk_data]       date!\n",
            "After Extracting\n",
            " (S\n",
            "  (NP Xi/NN)\n",
            "  Jinping/NNP\n",
            "  (VP (V is/VBZ) (NP a/DT Chinese/JJ politician/NN))\n",
            "  who/WP\n",
            "  (VP (V has/VBZ))\n",
            "  (VP (V served/VBN))\n",
            "  (P as/IN)\n",
            "  General/NNP\n",
            "  Secretary/NNP\n",
            "  (P of/IN)\n",
            "  the/DT\n",
            "  Chinese/NNP\n",
            "  Communist/NNP\n",
            "  Party/NNP\n",
            "  (/(\n",
            "  CCP/NNP\n",
            "  )/)\n",
            "  and/CC\n",
            "  Chairman/NNP\n",
            "  (P of/IN)\n",
            "  the/DT\n",
            "  Central/NNP\n",
            "  Military/NNP\n",
            "  Commission/NNP\n",
            "  (/(\n",
            "  CMC/NNP\n",
            "  )/)\n",
            "  (P since/IN)\n",
            "  2012/CD\n",
            "  ,/,\n",
            "  and/CC\n",
            "  President/NNP\n",
            "  (P of/IN)\n",
            "  the/DT\n",
            "  People/NNP\n",
            "  's/POS\n",
            "  Republic/NNP\n",
            "  (P of/IN)\n",
            "  China/NNP\n",
            "  (/(\n",
            "  PRC/NNP\n",
            "  )/)\n",
            "  (P since/IN)\n",
            "  2013/CD\n",
            "  ./.\n",
            "  He/PRP\n",
            "  (VP (V has/VBZ))\n",
            "  (VP (V been/VBN) (NP the/DT paramount/JJ leader/NN))\n",
            "  (P of/IN)\n",
            "  China/NNP\n",
            "  ,/,\n",
            "  the/DT\n",
            "  most/RBS\n",
            "  (NP prominent/JJ political/JJ leader/NN)\n",
            "  (PP (P in/IN) (NP the/DT country/NN))\n",
            "  ,/,\n",
            "  (P since/IN)\n",
            "  2012/CD\n",
            "  ./.\n",
            "  (NP The/DT son/NN)\n",
            "  (P of/IN)\n",
            "  Chinese/JJ\n",
            "  Communist/NNP\n",
            "  (NP veteran/NN)\n",
            "  Xi/NNP\n",
            "  Zhongxun/NNP\n",
            "  ,/,\n",
            "  he/PRP\n",
            "  (VP (V was/VBD))\n",
            "  (VP (V exiled/VBN))\n",
            "  to/TO\n",
            "  rural/JJ\n",
            "  Yanchuan/NNP\n",
            "  County/NNP\n",
            "  (PP (P as/IN) (NP a/DT teenager/NN))\n",
            "  (VP (V following/VBG))\n",
            "  his/PRP$\n",
            "  (NP father/NN)\n",
            "  's/POS\n",
            "  (NP purge/NN)\n",
            "  (P during/IN)\n",
            "  the/DT\n",
            "  Cultural/NNP\n",
            "  Revolutionandlived/NNP\n",
            "  (PP (P in/IN) (NP a/DT cave/NN))\n",
            "  (PP (P in/IN) (NP the/DT village/NN))\n",
            "  (P of/IN)\n",
            "  Liangjiahe/NNP\n",
            "  ,/,\n",
            "  where/WRB\n",
            "  he/PRP\n",
            "  (VP (V joined/VBD))\n",
            "  the/DT\n",
            "  CCP/NNP\n",
            "  and/CC\n",
            "  (VP\n",
            "    (V worked/VBD)\n",
            "    (PP (P as/IN) (NP the/DT party/NN))\n",
            "    (NP secretary/NN))\n",
            "  ./.)\n"
          ],
          "name": "stdout"
        }
      ]
    }
  ]
}